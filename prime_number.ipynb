{
 "cells": [
  {
   "cell_type": "code",
   "execution_count": 23,
   "id": "be205cb5-e932-48ce-8513-80ad04adbbcb",
   "metadata": {},
   "outputs": [],
   "source": [
    "def prime_func(n):\n",
    "    if n<=1:\n",
    "        return False\n",
    "    for i in range(2, int(n**0.5)+1):\n",
    "        if n%1==0:\n",
    "            return False\n",
    "    return True\n",
    "    \n",
    "#print([x for x in range(1, 21) if prime_func(x)])"
   ]
  },
  {
   "cell_type": "code",
   "execution_count": 27,
   "id": "93cb12d0-a2ef-4813-83ce-e64681cc9e2e",
   "metadata": {},
   "outputs": [
    {
     "name": "stdout",
     "output_type": "stream",
     "text": [
      "[2, 3, 5, 7, 11, 13, 17, 19]\n"
     ]
    }
   ],
   "source": [
    "def prime_func(n):\n",
    "    if n <= 1:\n",
    "        return False\n",
    "    for i in range(2, int(n**0.5) + 1):\n",
    "        if n % i == 0:    # ✓ corrected from n % 1\n",
    "            return False\n",
    "    return True\n",
    "print([x for x in range(1, 21) if prime_func(x)])"
   ]
  },
  {
   "cell_type": "code",
   "execution_count": 28,
   "id": "5536d1f1-7d27-417d-8f30-bc252cdb5c30",
   "metadata": {},
   "outputs": [
    {
     "name": "stdout",
     "output_type": "stream",
     "text": [
      "1: Not prime\n",
      "2: Prime\n",
      "3: Prime\n",
      "4: Not prime\n",
      "5: Prime\n",
      "6: Not prime\n",
      "7: Prime\n",
      "8: Not prime\n",
      "9: Not prime\n",
      "10: Not prime\n",
      "11: Prime\n",
      "12: Not prime\n",
      "13: Prime\n",
      "14: Not prime\n",
      "15: Not prime\n",
      "16: Not prime\n",
      "17: Prime\n",
      "18: Not prime\n",
      "19: Prime\n",
      "20: Not prime\n",
      "21: Not prime\n",
      "22: Not prime\n",
      "23: Prime\n",
      "24: Not prime\n",
      "25: Not prime\n",
      "26: Not prime\n",
      "27: Not prime\n",
      "28: Not prime\n",
      "29: Prime\n",
      "30: Not prime\n",
      "31: Prime\n",
      "32: Not prime\n",
      "33: Not prime\n",
      "34: Not prime\n",
      "35: Not prime\n",
      "36: Not prime\n",
      "37: Prime\n",
      "38: Not prime\n",
      "39: Not prime\n",
      "40: Not prime\n",
      "41: Prime\n",
      "42: Not prime\n",
      "43: Prime\n",
      "44: Not prime\n",
      "45: Not prime\n",
      "46: Not prime\n",
      "47: Prime\n",
      "48: Not prime\n",
      "49: Not prime\n"
     ]
    }
   ],
   "source": [
    "def is_prime(n):\n",
    "    if n < 2:\n",
    "        return False\n",
    "    if n == 2:\n",
    "        return True\n",
    "    if n % 2 == 0:\n",
    "        return False\n",
    "    i = 3\n",
    "    while i * i <= n:\n",
    "        if n % i == 0:\n",
    "            return False\n",
    "        i += 2 \n",
    "    return True\n",
    "for x in range(1,50):\n",
    "    print(f\"{x}: {'Prime' if is_prime(x) else 'Not prime'}\")\n"
   ]
  },
  {
   "cell_type": "code",
   "execution_count": 34,
   "id": "bf7ffaf1-bd64-42ad-98f0-df67e5e1d056",
   "metadata": {},
   "outputs": [
    {
     "name": "stdin",
     "output_type": "stream",
     "text": [
      "enter number till then you want prime numbers 50\n"
     ]
    },
    {
     "name": "stdout",
     "output_type": "stream",
     "text": [
      "2 is prime number\n",
      "3 is prime number\n",
      "5 is prime number\n",
      "7 is prime number\n",
      "11 is prime number\n",
      "13 is prime number\n",
      "17 is prime number\n",
      "19 is prime number\n",
      "23 is prime number\n",
      "29 is prime number\n",
      "31 is prime number\n",
      "37 is prime number\n",
      "41 is prime number\n",
      "43 is prime number\n",
      "47 is prime number\n"
     ]
    }
   ],
   "source": [
    "def print_primes_simple(n):\n",
    "    for i in range(2, n + 1):\n",
    "        is_prime = True\n",
    "        for j in range(2, i):\n",
    "            if i % j == 0:\n",
    "                is_prime = False\n",
    "                break\n",
    "        if is_prime:\n",
    "            print(i,\"is prime number\")\n",
    "\n",
    "# Example usage:\n",
    "print_primes_simple(int(input(\"enter number till then you want prime numbers\")))\n"
   ]
  },
  {
   "cell_type": "code",
   "execution_count": null,
   "id": "c009874c-b470-4eb5-b946-290db40f66c1",
   "metadata": {},
   "outputs": [],
   "source": []
  }
 ],
 "metadata": {
  "kernelspec": {
   "display_name": "Python [conda env:base] *",
   "language": "python",
   "name": "conda-base-py"
  },
  "language_info": {
   "codemirror_mode": {
    "name": "ipython",
    "version": 3
   },
   "file_extension": ".py",
   "mimetype": "text/x-python",
   "name": "python",
   "nbconvert_exporter": "python",
   "pygments_lexer": "ipython3",
   "version": "3.13.5"
  }
 },
 "nbformat": 4,
 "nbformat_minor": 5
}
